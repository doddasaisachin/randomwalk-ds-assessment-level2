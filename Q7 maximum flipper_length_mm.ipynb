{
 "cells": [
  {
   "cell_type": "code",
   "execution_count": 1,
   "id": "39f4b9dc",
   "metadata": {},
   "outputs": [],
   "source": [
    "import pandas as pd"
   ]
  },
  {
   "cell_type": "code",
   "execution_count": 2,
   "id": "c964fd6e",
   "metadata": {},
   "outputs": [],
   "source": [
    "df=pd.read_csv('Preprocessed_df.csv')"
   ]
  },
  {
   "cell_type": "code",
   "execution_count": 6,
   "id": "5b43e362",
   "metadata": {},
   "outputs": [
    {
     "data": {
      "text/plain": [
       "species               object\n",
       "island                object\n",
       "bill_length_mm       float64\n",
       "bill_depth_mm        float64\n",
       "flipper_length_mm    float64\n",
       "body_mass_g          float64\n",
       "sex                   object\n",
       "dtype: object"
      ]
     },
     "execution_count": 6,
     "metadata": {},
     "output_type": "execute_result"
    }
   ],
   "source": [
    "df.dtypes"
   ]
  },
  {
   "cell_type": "markdown",
   "id": "0e2515d0",
   "metadata": {},
   "source": [
    "### Grouping by species and island and also to find the maximum flipper_length_mm of each group"
   ]
  },
  {
   "cell_type": "code",
   "execution_count": 10,
   "id": "c4ebeb66",
   "metadata": {},
   "outputs": [],
   "source": [
    "max_flipper = df.groupby(['species', 'island'])['flipper_length_mm'].max().reset_index()"
   ]
  },
  {
   "cell_type": "markdown",
   "id": "d35057ee",
   "metadata": {},
   "source": [
    "### To find species of each Island which has longest flipper_length_mm idxmax is helpful to get index of the maximum flipper length for each island"
   ]
  },
  {
   "cell_type": "code",
   "execution_count": 11,
   "id": "2db51a89",
   "metadata": {},
   "outputs": [],
   "source": [
    "longest_flipper_species = df.loc[df.groupby('island')['flipper_length_mm'].idxmax()]"
   ]
  },
  {
   "cell_type": "code",
   "execution_count": 13,
   "id": "ef480ebd",
   "metadata": {},
   "outputs": [
    {
     "name": "stdout",
     "output_type": "stream",
     "text": [
      "     species     island  flipper_length_mm\n",
      "0     Adelie     Biscoe              203.0\n",
      "1     Adelie      Dream              208.0\n",
      "2     Adelie  Torgersen              210.0\n",
      "3  Chinstrap      Dream              212.0\n",
      "4     Gentoo     Biscoe              231.0\n"
     ]
    }
   ],
   "source": [
    "print(max_flipper)"
   ]
  },
  {
   "cell_type": "markdown",
   "id": "cc4330cb",
   "metadata": {},
   "source": [
    "### Printing species of each Island with longest flipper_length_mm"
   ]
  },
  {
   "cell_type": "code",
   "execution_count": 14,
   "id": "5d859aaf",
   "metadata": {},
   "outputs": [
    {
     "name": "stdout",
     "output_type": "stream",
     "text": [
      "        island    species  flipper_length_mm\n",
      "215     Biscoe     Gentoo              231.0\n",
      "323      Dream  Chinstrap              212.0\n",
      "129  Torgersen     Adelie              210.0\n"
     ]
    }
   ],
   "source": [
    "print(longest_flipper_species[['island', 'species', 'flipper_length_mm']])"
   ]
  },
  {
   "cell_type": "code",
   "execution_count": null,
   "id": "a45f0029",
   "metadata": {},
   "outputs": [],
   "source": []
  }
 ],
 "metadata": {
  "kernelspec": {
   "display_name": "Python 3 (ipykernel)",
   "language": "python",
   "name": "python3"
  },
  "language_info": {
   "codemirror_mode": {
    "name": "ipython",
    "version": 3
   },
   "file_extension": ".py",
   "mimetype": "text/x-python",
   "name": "python",
   "nbconvert_exporter": "python",
   "pygments_lexer": "ipython3",
   "version": "3.11.7"
  }
 },
 "nbformat": 4,
 "nbformat_minor": 5
}
